{
 "cells": [
  {
   "cell_type": "markdown",
   "id": "eae64124",
   "metadata": {},
   "source": [
    "## Classifying the gender on the basis of Usernames by using gender-guesser application  "
   ]
  },
  {
   "cell_type": "code",
   "execution_count": null,
   "id": "d51dbf45",
   "metadata": {},
   "outputs": [],
   "source": [
    "pip install Unidecode"
   ]
  },
  {
   "cell_type": "code",
   "execution_count": null,
   "id": "26cc1474",
   "metadata": {},
   "outputs": [],
   "source": [
    "pip install nameparser"
   ]
  },
  {
   "cell_type": "code",
   "execution_count": null,
   "id": "f4c9c4bd",
   "metadata": {},
   "outputs": [],
   "source": [
    "#Gender-guesser module installing\n",
    "\n",
    "pip install gender-guesser"
   ]
  },
  {
   "cell_type": "code",
   "execution_count": null,
   "id": "d6df4db0",
   "metadata": {},
   "outputs": [],
   "source": [
    "#Importing the needed liberaries\n",
    "\n",
    "import pandas as pd\n",
    "import requests\n",
    "import json\n",
    "import csv\n",
    "import xlsxwriter\n",
    "\n",
    "import gender_guesser.detector as gender"
   ]
  },
  {
   "cell_type": "code",
   "execution_count": null,
   "id": "e448f540",
   "metadata": {},
   "outputs": [],
   "source": [
    "#Extracting the dataframe with all users fullnames\n",
    "#df will be updated with the new csv file\n",
    "\n",
    "df = pd.read_csv(r\"E:\\Data\\Datasets\\users_withfullnames.csv\");\n",
    "df.head()"
   ]
  },
  {
   "cell_type": "code",
   "execution_count": null,
   "id": "ce585dce",
   "metadata": {},
   "outputs": [],
   "source": [
    "#Extractng the user's firstname column from dataframe\n",
    "\n",
    "username_arr=df.loc[:,\"Firstname\"]\n",
    "username_arr"
   ]
  },
  {
   "cell_type": "code",
   "execution_count": null,
   "id": "684b60a6",
   "metadata": {},
   "outputs": [],
   "source": [
    "#Using the gender detector application\n",
    "\n",
    "d = gender.Detector()\n",
    "gender_guessed=[]\n",
    "for i in username_arr:\n",
    "    gender_guessed.append(d.get_gender(f\"{i}\"))"
   ]
  },
  {
   "cell_type": "code",
   "execution_count": null,
   "id": "afdf2376",
   "metadata": {},
   "outputs": [],
   "source": [
    "#Writing the extracted data in a new excel to later copy it to the needed location\n",
    "\n",
    "workbook = xlsxwriter.Workbook('genders_processed.xlsx')\n",
    "worksheet = workbook.add_worksheet()\n",
    "\n",
    "for i in range(len(gender_guessed)):\n",
    "    worksheet.write(i, 0, gender_guessed[i])\n",
    "\n",
    "workbook.close()"
   ]
  },
  {
   "cell_type": "markdown",
   "id": "bc85edfa",
   "metadata": {},
   "source": [
    "#### After extracting the genders for all the needed users the data is combined in the excel for further analysis"
   ]
  }
 ],
 "metadata": {
  "kernelspec": {
   "display_name": "Python 3",
   "language": "python",
   "name": "python3"
  },
  "language_info": {
   "codemirror_mode": {
    "name": "ipython",
    "version": 3
   },
   "file_extension": ".py",
   "mimetype": "text/x-python",
   "name": "python",
   "nbconvert_exporter": "python",
   "pygments_lexer": "ipython3",
   "version": "3.8.8"
  }
 },
 "nbformat": 4,
 "nbformat_minor": 5
}
