{
 "cells": [
  {
   "cell_type": "markdown",
   "id": "10bb53e5",
   "metadata": {},
   "source": [
    "## Classifying the PROJECT'S tenure on the basis of commit dates (One year, Two years)"
   ]
  },
  {
   "cell_type": "markdown",
   "id": "f5ff4328",
   "metadata": {},
   "source": [
    "#### For classification of this, Project Repo's data was taken from Github and commiter's usernames were matched to the users data to get appropriate details about every commiter in the project. \n",
    "#### A Project's tenure was taken from the date when first user has commited and ended with the last user commit (The time lapse in between was considered as the Tenure of the Specific Project)"
   ]
  },
  {
   "cell_type": "code",
   "execution_count": null,
   "id": "eef2d919",
   "metadata": {},
   "outputs": [],
   "source": [
    "#Extracting all the Project's repository data\n",
    "\n",
    "df_proj = pd.read_csv(r\"E:\\Data\\DATA_FINAL\\Project_repo_data.csv\");\n",
    "df_proj.head()"
   ]
  },
  {
   "cell_type": "code",
   "execution_count": null,
   "id": "4d7fa7fc",
   "metadata": {},
   "outputs": [],
   "source": [
    "#Dropping Unnecasary data from the dataframe\n",
    "\n",
    "df_proj.drop(df_proj.index[df_proj['Gender'] == 'mostly_female'],axis=0, inplace = True)\n",
    "df_proj.drop(df_proj.index[df_proj['Gender'] == 'unknown'],axis=0, inplace = True)\n",
    "df_proj.drop(df_proj.index[df_proj['Gender'] == 'mostly_male'],axis=0, inplace = True)"
   ]
  },
  {
   "cell_type": "code",
   "execution_count": null,
   "id": "c839897a",
   "metadata": {},
   "outputs": [],
   "source": [
    "# Classifying the project tenures\n",
    "\n",
    "project_tenure=[]\n",
    "\n",
    "for i in df_proj.Repo_id:\n",
    "    if (pd.DatetimeIndex(df_proj['Date'][df_proj['Repo_id'] == i].values).year == 2015).any() and (pd.DatetimeIndex(df_proj['Date'][df_proj['Repo_id'] == i].values).year == 2016).any():\n",
    "        project_tenure.append(\"Two Years\")\n",
    "    elif (pd.DatetimeIndex(df_proj['Date'][df_proj['Repo_id'] == i].values).year == 2015).any() or (pd.DatetimeIndex(df_proj['Date'][df_proj['Repo_id'] == i].values).year == 2016).any():\n",
    "        project_tenure.append(\"One Year\")"
   ]
  },
  {
   "cell_type": "code",
   "execution_count": null,
   "id": "47f555ac",
   "metadata": {},
   "outputs": [],
   "source": [
    "#Writing all the extracted classified data in excel file\n",
    "\n",
    "#company_project_tenure = []\n",
    "\n",
    "import xlsxwriter\n",
    "\n",
    "workbook = xlsxwriter.Workbook('Project_Tenure.xlsx')\n",
    "worksheet = workbook.add_worksheet()\n",
    "\n",
    "for i in range(len(project_tenure)):\n",
    "    worksheet.write(i, 0, project_tenure[i])\n",
    "\n",
    "workbook.close()"
   ]
  },
  {
   "cell_type": "markdown",
   "id": "9ad4780d",
   "metadata": {},
   "source": [
    "## Classifying the PROJECT'S TEAM's on the basis of project's team size (Small, Medium, Large) "
   ]
  },
  {
   "cell_type": "markdown",
   "id": "3cf21071",
   "metadata": {},
   "source": [
    "#### For classification of this, Project Repo's data was taken from Github and commiter's usernames were matched to the users data to get appropriate details about every commiter in the project. \n",
    "#### A Project's Team size was taken by figuring out the total number of commiters in any specific Project repository."
   ]
  },
  {
   "cell_type": "code",
   "execution_count": null,
   "id": "ebdddda1",
   "metadata": {},
   "outputs": [],
   "source": [
    "#Classifying Project Team Size\n",
    "\n",
    "project_teamsize=[]\n",
    "\n",
    "for i in df_proj.Repo_id:\n",
    "    if (project_dataset[project_dataset.Repo_id == i].count()== 1).any():\n",
    "        project_teamsize.append(\"Small\")\n",
    "    elif (project_dataset[project_dataset.Repo_id == i].count() >= 2).any() and (project_dataset[project_dataset.Repo_id == i].count()<=3).any():\n",
    "        project_teamsize.append(\"Middle\")\n",
    "    elif (project_dataset[project_dataset.Repo_id == i].count() > 3).any():\n",
    "        project_teamsize.append(\"Large\")"
   ]
  },
  {
   "cell_type": "code",
   "execution_count": null,
   "id": "a8eae3b4",
   "metadata": {},
   "outputs": [],
   "source": [
    "import xlsxwriter\n",
    "\n",
    "workbook = xlsxwriter.Workbook('project_sizes.xlsx')\n",
    "worksheet = workbook.add_worksheet()\n",
    "\n",
    "for i in range(len(project_teamsize)):\n",
    "    worksheet.write(i, 0, project_teamsize[i])\n",
    "\n",
    "workbook.close()"
   ]
  },
  {
   "cell_type": "markdown",
   "id": "c8456101",
   "metadata": {},
   "source": [
    "### After all these preprocessing and classifying steps, we have a clean and sorted set of data for the further analysis as needed in the Project"
   ]
  }
 ],
 "metadata": {
  "kernelspec": {
   "display_name": "Python 3",
   "language": "python",
   "name": "python3"
  },
  "language_info": {
   "codemirror_mode": {
    "name": "ipython",
    "version": 3
   },
   "file_extension": ".py",
   "mimetype": "text/x-python",
   "name": "python",
   "nbconvert_exporter": "python",
   "pygments_lexer": "ipython3",
   "version": "3.8.8"
  }
 },
 "nbformat": 4,
 "nbformat_minor": 5
}
